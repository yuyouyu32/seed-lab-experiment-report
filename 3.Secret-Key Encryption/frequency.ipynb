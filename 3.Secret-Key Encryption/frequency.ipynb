{
 "cells": [
  {
   "cell_type": "markdown",
   "metadata": {},
   "source": [
    "# Frequency static"
   ]
  },
  {
   "cell_type": "code",
   "execution_count": null,
   "metadata": {},
   "outputs": [],
   "source": [
    "from collections import Counter\n",
    "import re\n",
    "\n",
    "TOP_K  = 26\n",
    "N_GRAM = 3\n",
    "\n",
    "# Generate all the n-grams for value n\n",
    "def ngrams(n, text):\n",
    "    for i in range(len(text) -n + 1):\n",
    "        # Ignore n-grams containing white space\n",
    "        if not re.search(r'\\s', text[i:i+n]):\n",
    "           yield text[i:i+n]\n",
    "\n",
    "# Read the data from the ciphertext\n",
    "with open('ciphertext.txt') as f:\n",
    "    text = f.read()\n",
    "\n",
    "# Count, sort, and print out the n-grams\n",
    "for N in range(N_GRAM):\n",
    "   print(\"-------------------------------------\")\n",
    "   print(\"{}-gram (top {}):\".format(N+1, TOP_K))\n",
    "   counts = Counter(ngrams(N+1, text))        # Count\n",
    "   sorted_counts = counts.most_common(TOP_K)  # Sort \n",
    "   for ngram, count in sorted_counts:                  \n",
    "       print(\"{}: {}\".format(ngram, count))   # Print"
   ]
  },
  {
   "cell_type": "code",
   "execution_count": null,
   "metadata": {},
   "outputs": [],
   "source": [
    "decode_dict = {\n",
    "    'n': 'E',\n",
    "    'y': 'T',\n",
    "    't': 'H',\n",
    "    'v': 'A',\n",
    "    'u': 'N',\n",
    "    'p': 'D',\n",
    "    'm': 'I',\n",
    "    'r': 'G',\n",
    "    'x': 'O',\n",
    "    'h': 'R',\n",
    "    \n",
    "    'b': 'F',\n",
    "    'q': 'S',\n",
    "    'z': 'U',\n",
    "    'a': 'C',\n",
    "    'd': 'Y',\n",
    "    'l': 'W',\n",
    "    'c': 'M',\n",
    "    'g': 'B',\n",
    "    's': 'K',\n",
    "    'i': 'L',\n",
    "    'e': 'P',\n",
    "    'o': 'J',\n",
    "    'f': 'V',\n",
    "    'j': 'Q',\n",
    "    'k': 'X',\n",
    "    'w': 'Z'\n",
    "    \n",
    "    \n",
    "}\n",
    "with open('ciphertext.txt') as f:\n",
    "    text = f.read()\n",
    "plain_1 = text.translate(str.maketrans(decode_dict))\n",
    "print(plain_1.lower())"
   ]
  },
  {
   "cell_type": "code",
   "execution_count": null,
   "metadata": {},
   "outputs": [],
   "source": []
  }
 ],
 "metadata": {
  "interpreter": {
   "hash": "45502fdfce2e3a69b4522d1ffb5ed57f4d4f682f68e4a9a486259255f528a0ce"
  },
  "kernelspec": {
   "display_name": "Python 3.8.6 64-bit ('3.8.6': pyenv)",
   "language": "python",
   "name": "python3"
  },
  "language_info": {
   "codemirror_mode": {
    "name": "ipython",
    "version": 3
   },
   "file_extension": ".py",
   "mimetype": "text/x-python",
   "name": "python",
   "nbconvert_exporter": "python",
   "pygments_lexer": "ipython3",
   "version": "3.8.6"
  },
  "orig_nbformat": 4
 },
 "nbformat": 4,
 "nbformat_minor": 2
}
