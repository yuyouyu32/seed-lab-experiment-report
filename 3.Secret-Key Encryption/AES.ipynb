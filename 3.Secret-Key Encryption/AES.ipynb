{
 "cells": [
  {
   "cell_type": "markdown",
   "metadata": {},
   "source": [
    "# EXP 6.3"
   ]
  },
  {
   "cell_type": "code",
   "execution_count": 12,
   "metadata": {},
   "outputs": [],
   "source": [
    "#!/usr/bin/python3\n",
    "\n",
    "# XOR two bytearrays\n",
    "def xor(first, second):\n",
    "   return bytearray(x^y for x,y in zip(first, second))\n",
    "\n",
    "# MSG = \"4e6f0e0e0e0e0e0e0e0e0e0e0e0e0e0e\" # No\n",
    "MSG = '5965730d0d0d0d0d0d0d0d0d0d0d0d0d' # Yes\n",
    "IV1 = \"04d5543500412bf46b693e3857bf58b2\"\n",
    "IV2 = \"e9dc663700412bf46b693e3857bf58b2\"\n",
    "\n"
   ]
  },
  {
   "cell_type": "code",
   "execution_count": 13,
   "metadata": {},
   "outputs": [
    {
     "name": "stdout",
     "output_type": "stream",
     "text": [
      "bytearray(b'\\xb4lA\\x0f\\r\\r\\r\\r\\r\\r\\r\\r\\r\\r\\r\\r')\n",
      "b46c410f0d0d0d0d0d0d0d0d0d0d0d0d\n"
     ]
    }
   ],
   "source": [
    "# Convert ascii string to bytearray\n",
    "# D1 = bytes(MSG, 'ascii')\n",
    "D1 = bytearray.fromhex(MSG)\n",
    "# Convert hex string to bytearray\n",
    "D2 = bytearray.fromhex(IV1)\n",
    "D3 = bytearray.fromhex(IV2)\n",
    "\n",
    "r1 = xor(D1, D2)\n",
    "r2 = xor(r1, D3)\n",
    "print(r2)\n",
    "print(r2.hex())\n",
    "# print(r2.decode('ascii'))"
   ]
  },
  {
   "cell_type": "markdown",
   "metadata": {},
   "source": [
    "# EXP 7"
   ]
  },
  {
   "cell_type": "code",
   "execution_count": 3,
   "metadata": {},
   "outputs": [],
   "source": [
    "from Crypto.Cipher import AES\n",
    "\n",
    "def padding_plain(text):\n",
    "   '''Padding the plaintext's length to a multiple of 16 bytes'''\n",
    "   if len(text.encode('utf-8')) % 16:\n",
    "      add = 16 - (len(text.encode('utf-8')) % 16)\n",
    "   else:\n",
    "      add = 0\n",
    "   text = text + (chr(add) * add)\n",
    "   return text.encode('utf-8')\n",
    "\n",
    "def padding_key(key):\n",
    "   '''Padding the key's length to a multiple of 16 bytes'''\n",
    "   if len(key.encode('utf-8')) % 16:\n",
    "      add = 16 - (len(key.encode('utf-8')) % 16)\n",
    "   else:\n",
    "      add = 0\n",
    "   text = key + ('#' * add)\n",
    "   return text.encode('utf-8')\n",
    "\n",
    "\n",
    "def check(key, c, d1, iv):\n",
    "   '''AES encode plain with CBC mode'''\n",
    "   mode = AES.MODE_CBC\n",
    "   cryptos = AES.new(key, mode, iv)\n",
    "   cipher_text = cryptos.encrypt(d1)\n",
    "   if cipher_text == c:\n",
    "      return True\n",
    "   else:\n",
    "      return False\n",
    "   \n",
    "plain = \"This is a top secret.\"\n",
    "msg = padding_plain(plain)\n",
    "IV1 = bytearray.fromhex(\"aabbccddeeff00998877665544332211\")\n",
    "cipher = bytearray.fromhex(\"764aa26b55a4da654df6b19e4bce00f4ed05e09346fb0e762583cb7da2ac93a2\")\n",
    "with open ('./words.txt', 'r') as f:\n",
    "    key = f.readline()\n",
    "    while key and not check(padding_key(key.replace('\\n', '')), cipher, msg, IV1):\n",
    "        key = f.readline()\n",
    "print(key)"
   ]
  },
  {
   "cell_type": "code",
   "execution_count": 9,
   "metadata": {},
   "outputs": [
    {
     "name": "stdout",
     "output_type": "stream",
     "text": [
      "Syracuse\n",
      "\n"
     ]
    }
   ],
   "source": [
    "\n"
   ]
  }
 ],
 "metadata": {
  "interpreter": {
   "hash": "45502fdfce2e3a69b4522d1ffb5ed57f4d4f682f68e4a9a486259255f528a0ce"
  },
  "kernelspec": {
   "display_name": "Python 3.8.6 64-bit ('3.8.6': pyenv)",
   "language": "python",
   "name": "python3"
  },
  "language_info": {
   "codemirror_mode": {
    "name": "ipython",
    "version": 3
   },
   "file_extension": ".py",
   "mimetype": "text/x-python",
   "name": "python",
   "nbconvert_exporter": "python",
   "pygments_lexer": "ipython3",
   "version": "3.8.6"
  },
  "orig_nbformat": 4
 },
 "nbformat": 4,
 "nbformat_minor": 2
}
