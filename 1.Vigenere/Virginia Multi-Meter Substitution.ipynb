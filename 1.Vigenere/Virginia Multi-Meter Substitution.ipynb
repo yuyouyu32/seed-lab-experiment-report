{
 "cells": [
  {
   "cell_type": "code",
   "execution_count": 38,
   "metadata": {},
   "outputs": [],
   "source": [
    "import re\n",
    "plaintext = 'I want to leave'\n",
    "plaintext = re.sub(r' +', ' ', plaintext)\n",
    "key = 'life'\n",
    "key.lower()\n",
    "if not re.match(r'^[a-zA-z][a-zA-z ]+$', plaintext):\n",
    "    print('Illegal characters in plaintext.')"
   ]
  },
  {
   "cell_type": "markdown",
   "metadata": {},
   "source": [
    "## Encrypt"
   ]
  },
  {
   "cell_type": "code",
   "execution_count": 39,
   "metadata": {},
   "outputs": [],
   "source": [
    "def encrypt_word(plainword, key):\n",
    "    len_key = len(key)\n",
    "    for index, plainchar in enumerate(plainword):\n",
    "        if ord(plainchar) > 96:\n",
    "            yield chr((ord(plainchar) + ord(key[index % len_key]) - 194) % 26 + 97)\n",
    "        else:\n",
    "            yield chr((ord(plainchar) + ord(key[index % len_key].upper()) - 130) % 26 + 65)"
   ]
  },
  {
   "cell_type": "code",
   "execution_count": 40,
   "metadata": {},
   "outputs": [],
   "source": [
    "def encrypt(plaintext, key):\n",
    "    for plainword in plaintext.split(' '):\n",
    "        yield ''.join(encrypt_word(plainword, key))"
   ]
  },
  {
   "cell_type": "code",
   "execution_count": 41,
   "metadata": {},
   "outputs": [
    {
     "data": {
      "text/plain": [
       "'T hisx ew wmfzp'"
      ]
     },
     "execution_count": 41,
     "metadata": {},
     "output_type": "execute_result"
    }
   ],
   "source": [
    "ciphertext = ' '.join(encrypt(plaintext, key))"
   ]
  },
  {
   "cell_type": "markdown",
   "metadata": {},
   "source": [
    "## Decipher"
   ]
  },
  {
   "cell_type": "code",
   "execution_count": null,
   "metadata": {},
   "outputs": [],
   "source": [
    "def transfer_key(key):\n",
    "    for key_char in key:\n",
    "        yield chr(220 - ord(key_char))"
   ]
  }
 ],
 "metadata": {
  "interpreter": {
   "hash": "45502fdfce2e3a69b4522d1ffb5ed57f4d4f682f68e4a9a486259255f528a0ce"
  },
  "kernelspec": {
   "display_name": "Python 3.8.6 64-bit ('3.8.6': pyenv)",
   "language": "python",
   "name": "python3"
  },
  "language_info": {
   "codemirror_mode": {
    "name": "ipython",
    "version": 3
   },
   "file_extension": ".py",
   "mimetype": "text/x-python",
   "name": "python",
   "nbconvert_exporter": "python",
   "pygments_lexer": "ipython3",
   "version": "3.8.6"
  },
  "orig_nbformat": 4
 },
 "nbformat": 4,
 "nbformat_minor": 2
}
